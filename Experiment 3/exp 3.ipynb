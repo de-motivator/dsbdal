{
 "cells": [
  {
   "cell_type": "code",
   "execution_count": null,
   "id": "a1c82020-7746-4127-a17e-1bae1d6a0215",
   "metadata": {},
   "outputs": [],
   "source": [
    "# Import Libraries"
   ]
  },
  {
   "cell_type": "code",
   "execution_count": null,
   "id": "00b4d410-8bf1-4b00-bbfb-05f68d515608",
   "metadata": {},
   "outputs": [],
   "source": [
    "import pandas as pd\n",
    "import numpy as np\n",
    "import matplotlib.pyplot as plt\n",
    "import seaborn as sns\n",
    "import warnings \n",
    "warnings.filterwarnings(\"ignore\")\n",
    "from sklearn.datasets import load_iris\n",
    "%matplotlib inline"
   ]
  },
  {
   "cell_type": "code",
   "execution_count": null,
   "id": "6a69f4a0-d443-4fe2-8d78-e7440780d2aa",
   "metadata": {},
   "outputs": [],
   "source": [
    "df = pd.read_csv(\"loan_data_set.csv\")"
   ]
  },
  {
   "cell_type": "code",
   "execution_count": null,
   "id": "fe5e2020-a11e-4710-b17e-87f44b75ae2f",
   "metadata": {},
   "outputs": [],
   "source": [
    "df.head()"
   ]
  },
  {
   "cell_type": "code",
   "execution_count": null,
   "id": "fd6f6b95-4597-4982-b04f-682bae03e418",
   "metadata": {},
   "outputs": [],
   "source": [
    "# Basic Statistics"
   ]
  },
  {
   "cell_type": "code",
   "execution_count": null,
   "id": "8c9b03de-efa7-4845-93c7-1a0eae1c0f6f",
   "metadata": {},
   "outputs": [],
   "source": [
    "df.shape"
   ]
  },
  {
   "cell_type": "code",
   "execution_count": null,
   "id": "8f397352-5f09-4ffe-98be-1eedee01480d",
   "metadata": {},
   "outputs": [],
   "source": [
    "df.info()"
   ]
  },
  {
   "cell_type": "code",
   "execution_count": null,
   "id": "4602832c-6158-4fee-81c6-69edb105ff9e",
   "metadata": {},
   "outputs": [],
   "source": [
    "df.describe()"
   ]
  },
  {
   "cell_type": "code",
   "execution_count": null,
   "id": "f81ff52b-4686-4f06-8ca9-af8485861f6d",
   "metadata": {},
   "outputs": [],
   "source": [
    "df.isna().sum()"
   ]
  },
  {
   "cell_type": "code",
   "execution_count": null,
   "id": "5be0cc81-9431-4c3f-b444-be2bae7e556e",
   "metadata": {},
   "outputs": [],
   "source": [
    "# Group the quantitative variables"
   ]
  },
  {
   "cell_type": "code",
   "execution_count": null,
   "id": "2d3afbeb-8c9a-49ad-846b-d3935e044a8d",
   "metadata": {},
   "outputs": [],
   "source": [
    "df[\"ApplicantIncome\"].plot(kind=\"hist\")\n",
    "plt.show()"
   ]
  },
  {
   "cell_type": "code",
   "execution_count": null,
   "id": "21388fa7-e360-4a32-b6d8-2a952d43142a",
   "metadata": {},
   "outputs": [],
   "source": [
    "df[\"ApplicantIncome\"].fillna(df[\"ApplicantIncome\"].mean(), inplace=True)"
   ]
  },
  {
   "cell_type": "code",
   "execution_count": null,
   "id": "b5ad0a2e-3a3f-4a9e-842a-861fe5950d23",
   "metadata": {},
   "outputs": [],
   "source": [
    "df[\"CoapplicantIncome\"].plot(kind=\"hist\")\n",
    "plt.show()"
   ]
  },
  {
   "cell_type": "code",
   "execution_count": null,
   "id": "b31614f6-86b5-4cd5-a1d7-b149d89e07db",
   "metadata": {},
   "outputs": [],
   "source": [
    "df[\"CoapplicantIncome\"].fillna(df[\"CoapplicantIncome\"].mean(), inplace=True)"
   ]
  },
  {
   "cell_type": "code",
   "execution_count": null,
   "id": "69afa0e3-efdb-4008-b788-5d193073357f",
   "metadata": {},
   "outputs": [],
   "source": [
    "df[\"LoanAmount\"].plot(kind=\"hist\")\n",
    "plt.show()"
   ]
  },
  {
   "cell_type": "code",
   "execution_count": null,
   "id": "2afc6dc4-1a70-4061-bbd3-a4985b9986c8",
   "metadata": {},
   "outputs": [],
   "source": [
    "df[\"LoanAmount\"].fillna(df[\"LoanAmount\"].mean(), inplace=True)"
   ]
  },
  {
   "cell_type": "code",
   "execution_count": null,
   "id": "5a46973b-b2d1-435a-b895-07c43e279122",
   "metadata": {},
   "outputs": [],
   "source": [
    "df[\"Credit_History\"].plot(kind=\"hist\")\n",
    "plt.show()"
   ]
  },
  {
   "cell_type": "code",
   "execution_count": null,
   "id": "7f2467a1-2985-4c90-9ef0-1a982a853f72",
   "metadata": {},
   "outputs": [],
   "source": [
    "df[\"Credit_History\"].fillna(np.random.randint(0,2), inplace=True)"
   ]
  },
  {
   "cell_type": "code",
   "execution_count": null,
   "id": "195d8271-bf7a-4449-8982-305a612e5519",
   "metadata": {},
   "outputs": [],
   "source": [
    "grouped_df = df[[\"ApplicantIncome\", \"CoapplicantIncome\", \"LoanAmount\", \"Credit_History\"]].groupby(df[\"Loan_Status\"])"
   ]
  },
  {
   "cell_type": "code",
   "execution_count": null,
   "id": "58702768-7aec-46d5-9e0d-35156cc2dc3d",
   "metadata": {},
   "outputs": [],
   "source": [
    "# Statistics of the grouped data"
   ]
  },
  {
   "cell_type": "code",
   "execution_count": null,
   "id": "0dc207e9-322f-412a-ac53-b5f4248bb695",
   "metadata": {},
   "outputs": [],
   "source": [
    "mean = grouped_df.mean()\n",
    "mean"
   ]
  },
  {
   "cell_type": "code",
   "execution_count": null,
   "id": "40a60b1e-15d3-4cb5-9371-8a8f87e52eea",
   "metadata": {},
   "outputs": [],
   "source": [
    "median = grouped_df.median()\n",
    "median"
   ]
  },
  {
   "cell_type": "code",
   "execution_count": null,
   "id": "aeda0ef3-520e-45c8-a222-bc6bfe2f315f",
   "metadata": {},
   "outputs": [],
   "source": [
    "min = grouped_df.min()\n",
    "min"
   ]
  },
  {
   "cell_type": "code",
   "execution_count": null,
   "id": "017b7ab3-239c-4c6c-a0a1-fd3db0ef0397",
   "metadata": {},
   "outputs": [],
   "source": [
    "max = grouped_df.max()\n",
    "max"
   ]
  },
  {
   "cell_type": "code",
   "execution_count": null,
   "id": "4b53646d-1bfa-43de-b85d-69475015c8d9",
   "metadata": {},
   "outputs": [],
   "source": [
    "std = grouped_df.std()\n",
    "std"
   ]
  },
  {
   "cell_type": "code",
   "execution_count": null,
   "id": "800b7628-28b5-41e8-ab40-c0e5728f9771",
   "metadata": {},
   "outputs": [],
   "source": [
    "# Iris dataset"
   ]
  },
  {
   "cell_type": "code",
   "execution_count": null,
   "id": "a25340fb-8811-4433-bcc2-2413c95fe869",
   "metadata": {},
   "outputs": [],
   "source": [
    "iris = load_iris()\n",
    "iris.keys()"
   ]
  },
  {
   "cell_type": "code",
   "execution_count": null,
   "id": "1ece603b-33e4-425e-bba9-c547571fc25c",
   "metadata": {},
   "outputs": [],
   "source": [
    "iris_df = pd.DataFrame(iris.data, columns = iris.feature_names)\n",
    "iris_df[\"label\"] = iris.target"
   ]
  },
  {
   "cell_type": "code",
   "execution_count": null,
   "id": "82e4aebc-706a-4004-93fc-50b5906e30ba",
   "metadata": {},
   "outputs": [],
   "source": [
    "iris.target_names"
   ]
  },
  {
   "cell_type": "code",
   "execution_count": null,
   "id": "b6615903-ce57-4fd1-bba9-9b6a53088124",
   "metadata": {},
   "outputs": [],
   "source": [
    "iris_df.shape"
   ]
  },
  {
   "cell_type": "code",
   "execution_count": null,
   "id": "f4d4855d-022e-4fdb-a790-22f0ef07d389",
   "metadata": {},
   "outputs": [],
   "source": [
    "iris_df.head()"
   ]
  },
  {
   "cell_type": "code",
   "execution_count": null,
   "id": "e4691a8c-8bf8-4bd6-b385-17a918c7d8b6",
   "metadata": {},
   "outputs": [],
   "source": [
    "# Basic statistics of Iris dataset"
   ]
  },
  {
   "cell_type": "code",
   "execution_count": null,
   "id": "03e15ac5-6f2a-4c6c-9b46-0e95185d5219",
   "metadata": {},
   "outputs": [],
   "source": [
    "iris_df.info()"
   ]
  },
  {
   "cell_type": "code",
   "execution_count": null,
   "id": "db185535-f1c4-4794-a5d8-8b632ee64cdc",
   "metadata": {},
   "outputs": [],
   "source": [
    "iris_df.describe()"
   ]
  },
  {
   "cell_type": "code",
   "execution_count": null,
   "id": "06c8fa7e-de60-4e53-a3d7-c44a311f301c",
   "metadata": {},
   "outputs": [],
   "source": [
    "# Setosa statistics"
   ]
  },
  {
   "cell_type": "code",
   "execution_count": null,
   "id": "e11b718e-4b50-4815-b1a4-5e73c8822bd4",
   "metadata": {},
   "outputs": [],
   "source": [
    "setosa = iris_df[iris_df[\"label\"] == 0].drop(\"label\", axis=1)"
   ]
  },
  {
   "cell_type": "code",
   "execution_count": null,
   "id": "a0187d6a-1bac-45c2-bc9d-8ee018b9f33c",
   "metadata": {},
   "outputs": [],
   "source": [
    "setosa.describe()"
   ]
  },
  {
   "cell_type": "code",
   "execution_count": null,
   "id": "c384cb41-3a7f-4fb0-86e9-50c581e36908",
   "metadata": {},
   "outputs": [],
   "source": [
    "plt.figure(figsize=(10,7))\n",
    "box = setosa.boxplot()\n",
    "medians = setosa.median()\n",
    "for i in range(len(medians)):\n",
    "    box.annotate(medians[i], (i+1, medians[i]), ha=\"center\", va=\"center\", color=\"red\", size=10)\n",
    "plt.show()"
   ]
  },
  {
   "cell_type": "code",
   "execution_count": null,
   "id": "20dbd090-b354-4488-a7bd-7e7745b85186",
   "metadata": {},
   "outputs": [],
   "source": [
    "# Versicolor statistics"
   ]
  },
  {
   "cell_type": "code",
   "execution_count": null,
   "id": "8e9957c1-d273-4af4-9fa9-e0c388a5f113",
   "metadata": {},
   "outputs": [],
   "source": [
    "versicolor = iris_df[iris_df[\"label\"] == 1].drop(\"label\", axis=1)"
   ]
  },
  {
   "cell_type": "code",
   "execution_count": null,
   "id": "0134b1a6-6f29-4dd1-a587-066f74cc30d3",
   "metadata": {},
   "outputs": [],
   "source": [
    "versicolor.describe()"
   ]
  },
  {
   "cell_type": "code",
   "execution_count": null,
   "id": "0ee2b5a9-fe32-4666-879c-a6f5841460b0",
   "metadata": {},
   "outputs": [],
   "source": [
    "plt.figure(figsize=(10,7))\n",
    "box = versicolor.boxplot()\n",
    "medians = versicolor.median()\n",
    "for i in range(len(medians)):\n",
    "    box.annotate(medians[i], (i+1, medians[i]), ha=\"center\", va=\"center\", color=\"red\", size=10)\n",
    "plt.show()"
   ]
  },
  {
   "cell_type": "code",
   "execution_count": null,
   "id": "43b39ebd-5541-4533-9b49-9b019a90d26a",
   "metadata": {},
   "outputs": [],
   "source": [
    "# Virginica statistics"
   ]
  },
  {
   "cell_type": "code",
   "execution_count": null,
   "id": "04ba4567-1b28-46eb-889e-8d47d516ebf1",
   "metadata": {},
   "outputs": [],
   "source": [
    "virginica = iris_df[iris_df[\"label\"] == 2].drop(\"label\", axis=1)"
   ]
  },
  {
   "cell_type": "code",
   "execution_count": null,
   "id": "9f9e5bac-5a3d-4f95-aa2e-d2a5f08c5e71",
   "metadata": {},
   "outputs": [],
   "source": [
    "virginica.describe()"
   ]
  },
  {
   "cell_type": "code",
   "execution_count": null,
   "id": "8920dffe-2fcb-45f3-8a75-55ad0ef0ea94",
   "metadata": {},
   "outputs": [],
   "source": [
    "plt.figure(figsize=(10,7))\n",
    "box = virginica.boxplot()\n",
    "medians = virginica.median()\n",
    "for i in range(len(medians)):\n",
    "    box.annotate(medians[i], (i+1, medians[i]), ha=\"center\", va=\"center\", color=\"red\", size=10)\n",
    "plt.show()"
   ]
  }
 ],
 "metadata": {
  "kernelspec": {
   "display_name": "Python 3 (ipykernel)",
   "language": "python",
   "name": "python3"
  },
  "language_info": {
   "codemirror_mode": {
    "name": "ipython",
    "version": 3
   },
   "file_extension": ".py",
   "mimetype": "text/x-python",
   "name": "python",
   "nbconvert_exporter": "python",
   "pygments_lexer": "ipython3",
   "version": "3.12.1"
  }
 },
 "nbformat": 4,
 "nbformat_minor": 5
}
