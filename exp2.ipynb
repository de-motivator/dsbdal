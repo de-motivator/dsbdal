{
 "cells": [
  {
   "cell_type": "code",
   "execution_count": 1,
   "id": "8067de0f-425d-41d3-ac09-d416e7633e89",
   "metadata": {},
   "outputs": [],
   "source": [
    "import pandas as pd\n",
    "import numpy as np\n",
    "import matplotlib.pyplot as plt\n",
    "import seaborn as sns\n",
    "import math\n",
    "import warnings\n",
    "warnings.filterwarnings(\"ignore\")\n",
    "%matplotlib inline"
   ]
  },
  {
   "cell_type": "code",
   "execution_count": null,
   "id": "27e0fb34-69d4-4e75-a71a-8beb7ee059e0",
   "metadata": {},
   "outputs": [],
   "source": [
    "rollno = [1, 2, 3, 4, 5, 6, 7, 8, 9, 10, 11, 12, 13, 14, 15]\n",
    "name = [\"a\", \"b\", \"c\", \"d\", \"e\", \"f\", \"g\", \"h\", \"i\", \"j\", np.nan, np.nan, \"k\", \"l\", \"m\"]\n",
    "marks = [40, 23, 50, 78, 48, 89, 90, 67, 84, 96, 76, np.nan, 97, np.nan, 65]\n",
    "grade = [\"F\", \"F\", \"P\", \"P\", \"P\", \"P\", \"P\", \"P\", \"P\", \"P\", \"P\", \"F\", \"P\", np.nan, np.nan]"
   ]
  },
  {
   "cell_type": "code",
   "execution_count": null,
   "id": "a9851609-4de6-401d-a31b-2f06b86e5341",
   "metadata": {},
   "outputs": [],
   "source": [
    "df = pd.DataFrame({\"rollno\" : rollno, \"name\" : name, \"marks\" : marks, \"grade\" : grade})\n",
    "df"
   ]
  },
  {
   "cell_type": "code",
   "execution_count": null,
   "id": "93830866-99d0-41d2-9564-a27e86607197",
   "metadata": {},
   "outputs": [],
   "source": [
    "df.info()"
   ]
  },
  {
   "cell_type": "code",
   "execution_count": null,
   "id": "bce4b45f-aae2-4b5c-82c1-f157150463c0",
   "metadata": {},
   "outputs": [],
   "source": [
    "df.describe()"
   ]
  },
  {
   "cell_type": "code",
   "execution_count": null,
   "id": "71444cbd-cc95-439f-8271-79c1de064597",
   "metadata": {},
   "outputs": [],
   "source": [
    "df.dtypes"
   ]
  },
  {
   "cell_type": "code",
   "execution_count": null,
   "id": "52be0d0a-e2da-4fb8-ac1c-962b3c796c4f",
   "metadata": {},
   "outputs": [],
   "source": [
    "df.columns"
   ]
  },
  {
   "cell_type": "code",
   "execution_count": null,
   "id": "beb2e3fd-1a91-4458-b799-0b05dac6d90f",
   "metadata": {},
   "outputs": [],
   "source": [
    "df.isna().sum()"
   ]
  },
  {
   "cell_type": "code",
   "execution_count": null,
   "id": "b6303a8c-898a-4427-80af-961fcc885285",
   "metadata": {},
   "outputs": [],
   "source": [
    "df.to_csv(\"academic_performance.csv\")"
   ]
  },
  {
   "cell_type": "code",
   "execution_count": null,
   "id": "229c79b9-23dd-4e0c-b731-ed7e86f10d8e",
   "metadata": {},
   "outputs": [],
   "source": [
    "df.isna().sum()"
   ]
  },
  {
   "cell_type": "code",
   "execution_count": null,
   "id": "eb01496a-90e5-4545-a464-def78f64ce1a",
   "metadata": {},
   "outputs": [],
   "source": [
    "df[\"marks\"] = df[\"marks\"].fillna(df[\"marks\"].mean())\n",
    "df"
   ]
  },
  {
   "cell_type": "code",
   "execution_count": null,
   "id": "4c8c107c-2441-4e6f-adf2-6178bc056889",
   "metadata": {},
   "outputs": [],
   "source": [
    "def fun1(value):\n",
    "    return int(math.floor(value))"
   ]
  },
  {
   "cell_type": "code",
   "execution_count": null,
   "id": "ce4dc20f-1fd9-4b29-b667-651d0042da54",
   "metadata": {},
   "outputs": [],
   "source": [
    "df[\"marks\"] = df[\"marks\"].apply(fun1)\n",
    "df"
   ]
  },
  {
   "cell_type": "code",
   "execution_count": null,
   "id": "e9c1df68-5f61-403e-b25f-2e31d93207ab",
   "metadata": {},
   "outputs": [],
   "source": [
    "df = df[df['name'].notna()]\n",
    "df"
   ]
  },
  {
   "cell_type": "code",
   "execution_count": null,
   "id": "a51dd276-9044-405b-96b3-4561a0293531",
   "metadata": {},
   "outputs": [],
   "source": [
    "for index, row in df.iterrows():\n",
    "    # print(row['marks'], row['grade'])\n",
    "    if (row['marks'] > 40):\n",
    "        df.loc[index, 'grade'] = 'P'\n",
    "    else:\n",
    "        df.loc[index, 'grade'] = 'F'\n",
    "        \n",
    "df"
   ]
  },
  {
   "cell_type": "code",
   "execution_count": null,
   "id": "63d10db1-1cae-486a-ba5b-dc1b2ec515fa",
   "metadata": {},
   "outputs": [],
   "source": [
    "first_outlier = [16, 'n', 200, 'P']\n",
    "second_outlier = [17, 'o', -100, 'F']\n",
    "\n",
    "df.loc[15] = first_outlier\n",
    "df.loc[16] = second_outlier\n",
    "\n",
    "df"
   ]
  },
  {
   "cell_type": "code",
   "execution_count": null,
   "id": "a1e50b47-c507-48ed-947b-94d2cff9a379",
   "metadata": {},
   "outputs": [],
   "source": [
    "sns.countplot(data=df, x=df['marks']);"
   ]
  },
  {
   "cell_type": "code",
   "execution_count": null,
   "id": "beb6c28a-eede-40d7-88a2-f78c2380ff4a",
   "metadata": {},
   "outputs": [],
   "source": [
    "sns.boxplot(data=df, x='marks');"
   ]
  },
  {
   "cell_type": "code",
   "execution_count": null,
   "id": "c4cbff5a-1e92-4647-adf9-e6e02999fd7c",
   "metadata": {},
   "outputs": [],
   "source": [
    "from matplotlib.cbook import boxplot_stats  \n",
    "outliers = boxplot_stats(df['marks']).pop(0)['fliers']\n",
    "outliers\n",
    "\n",
    "df"
   ]
  },
  {
   "cell_type": "code",
   "execution_count": null,
   "id": "5dd94bb6-ee8a-43ff-8e42-47e65c92308a",
   "metadata": {},
   "outputs": [],
   "source": [
    "df = df.drop([15,16], axis=0)\n",
    "df"
   ]
  },
  {
   "cell_type": "code",
   "execution_count": null,
   "id": "076bd585-a6ee-4320-b7ef-ac331077a439",
   "metadata": {},
   "outputs": [],
   "source": [
    "from sklearn.preprocessing import MinMaxScaler\n",
    "scaler = MinMaxScaler()\n",
    "df[['marks']] = scaler.fit_transform(df[['marks']])\n",
    "\n",
    "df"
   ]
  }
 ],
 "metadata": {
  "kernelspec": {
   "display_name": "Python 3 (ipykernel)",
   "language": "python",
   "name": "python3"
  },
  "language_info": {
   "codemirror_mode": {
    "name": "ipython",
    "version": 3
   },
   "file_extension": ".py",
   "mimetype": "text/x-python",
   "name": "python",
   "nbconvert_exporter": "python",
   "pygments_lexer": "ipython3",
   "version": "3.12.1"
  }
 },
 "nbformat": 4,
 "nbformat_minor": 5
}
