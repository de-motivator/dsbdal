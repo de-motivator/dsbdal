{
 "cells": [
  {
   "cell_type": "code",
   "execution_count": null,
   "id": "1f3aa042-7fe5-4698-8242-c2672ecd78c0",
   "metadata": {},
   "outputs": [],
   "source": [
    "import pandas as pd"
   ]
  },
  {
   "cell_type": "code",
   "execution_count": null,
   "id": "f46791fe-fae7-4d40-9f2b-d4fd64a39d01",
   "metadata": {},
   "outputs": [],
   "source": [
    "csv_url = 'https://archive.ics.uci.edu/ml/machine-learning-databases/iris/iris.data'"
   ]
  },
  {
   "cell_type": "code",
   "execution_count": null,
   "id": "e9d1e4bd-60b7-46c6-993b-eea717f3aa5f",
   "metadata": {},
   "outputs": [],
   "source": [
    "iris = pd.read_csv(csv_url, header = None)"
   ]
  },
  {
   "cell_type": "code",
   "execution_count": null,
   "id": "03be6b27-de77-43d6-b0da-0e7b5b5a7c65",
   "metadata": {},
   "outputs": [],
   "source": [
    "col_names =['Sepal_Length','Sepal_Width','Petal_Length','Petal_Width','Species']"
   ]
  },
  {
   "cell_type": "code",
   "execution_count": null,
   "id": "faa013f2-cc3c-4375-b0ae-20caff4987a3",
   "metadata": {},
   "outputs": [],
   "source": [
    "iris = pd.read_csv(csv_url, names = col_names)"
   ]
  },
  {
   "cell_type": "code",
   "execution_count": null,
   "id": "14832374-f05d-4b69-a656-c527250d73ce",
   "metadata": {},
   "outputs": [],
   "source": [
    "df1=df=iris"
   ]
  },
  {
   "cell_type": "code",
   "execution_count": null,
   "id": "1efc5944-9b3d-400f-9a9f-58a0b7b895e7",
   "metadata": {},
   "outputs": [],
   "source": [
    "iris.head(8)"
   ]
  },
  {
   "cell_type": "code",
   "execution_count": null,
   "id": "c7915e28-e5eb-470b-aaa7-60caa57144de",
   "metadata": {},
   "outputs": [],
   "source": [
    "iris.tail()"
   ]
  },
  {
   "cell_type": "code",
   "execution_count": null,
   "id": "d28717fc-80f2-46ea-ad40-4f90c0ee8e2d",
   "metadata": {},
   "outputs": [],
   "source": [
    "iris.index"
   ]
  },
  {
   "cell_type": "code",
   "execution_count": null,
   "id": "ad261e15-a9c0-40b3-bf6f-db25b7a35869",
   "metadata": {},
   "outputs": [],
   "source": [
    "iris.columns"
   ]
  },
  {
   "cell_type": "code",
   "execution_count": null,
   "id": "fa6e14ba-df3f-4c06-9da0-56a9514ae10a",
   "metadata": {},
   "outputs": [],
   "source": [
    "iris.shape"
   ]
  },
  {
   "cell_type": "code",
   "execution_count": null,
   "id": "7d605a27-dbf2-4322-a652-4cece9202177",
   "metadata": {},
   "outputs": [],
   "source": [
    "iris.dtypes"
   ]
  },
  {
   "cell_type": "code",
   "execution_count": null,
   "id": "17952d57-37f1-46c5-a215-f9fe5e49e3b1",
   "metadata": {},
   "outputs": [],
   "source": [
    "iris.describe()"
   ]
  },
  {
   "cell_type": "code",
   "execution_count": null,
   "id": "8e8b18f8-c77c-46fa-b9ef-536a57977572",
   "metadata": {},
   "outputs": [],
   "source": [
    "iris.columns.values"
   ]
  },
  {
   "cell_type": "code",
   "execution_count": null,
   "id": "9a09ca9f-7ddb-45c2-898c-e48ba3217b28",
   "metadata": {},
   "outputs": [],
   "source": [
    "iris.iloc[5]"
   ]
  },
  {
   "cell_type": "code",
   "execution_count": null,
   "id": "457e7bb3-06f8-48b6-a24f-559a433ca537",
   "metadata": {},
   "outputs": [],
   "source": [
    "iris[47:51]"
   ]
  },
  {
   "cell_type": "code",
   "execution_count": null,
   "id": "27172a78-cf0b-42da-95c5-6944652c18fd",
   "metadata": {},
   "outputs": [],
   "source": [
    "iris.loc[:,[\"Sepal_Length\",\"Sepal_Width\"]] "
   ]
  },
  {
   "cell_type": "code",
   "execution_count": null,
   "id": "24ee071d-4d5a-4928-8577-edca2528b521",
   "metadata": {},
   "outputs": [],
   "source": [
    "cols_2_4=iris.columns[2:4]\n",
    "iris[cols_2_4]"
   ]
  },
  {
   "cell_type": "code",
   "execution_count": null,
   "id": "01d887fa-2b40-495a-be93-95e194b994d6",
   "metadata": {},
   "outputs": [],
   "source": [
    "iris.isnull().any()"
   ]
  },
  {
   "cell_type": "code",
   "execution_count": null,
   "id": "4444c964-756b-4635-b97d-37484aeb348f",
   "metadata": {},
   "outputs": [],
   "source": [
    "iris.isnull().sum()"
   ]
  },
  {
   "cell_type": "code",
   "execution_count": null,
   "id": "f68faceb-b36a-4fc2-9a03-0ff5f4fcb84d",
   "metadata": {},
   "outputs": [],
   "source": [
    "iris.dtypes"
   ]
  },
  {
   "cell_type": "code",
   "execution_count": null,
   "id": "fe38bd26-bc4d-4e63-8a8f-a8b148e8afe0",
   "metadata": {},
   "outputs": [],
   "source": [
    "df=iris\n",
    "df['petal Length(cm)']=iris['Petal_Length'].astype(\"int\")"
   ]
  },
  {
   "cell_type": "code",
   "execution_count": null,
   "id": "03d59bfb-b64e-4e35-8774-5fb5ff51b77d",
   "metadata": {},
   "outputs": [],
   "source": [
    "df1=df\n",
    "df"
   ]
  },
  {
   "cell_type": "code",
   "execution_count": 1,
   "id": "47966e45-5eb0-4243-bbf7-fa73edfb775a",
   "metadata": {},
   "outputs": [],
   "source": [
    "from sklearn import preprocessing\n",
    "min_max_scaler = preprocessing.MinMaxScaler()"
   ]
  },
  {
   "cell_type": "code",
   "execution_count": null,
   "id": "c7075d7c-a719-4250-955c-b1649b22a7fb",
   "metadata": {},
   "outputs": [],
   "source": [
    "X=iris.iloc[:,:4]\n",
    "X"
   ]
  },
  {
   "cell_type": "code",
   "execution_count": null,
   "id": "623d843a-970c-43e4-81ea-7785eb944aba",
   "metadata": {},
   "outputs": [],
   "source": [
    "X_scaled = min_max_scaler.fit_transform(X)\n",
    "df_normalized = pd.DataFrame(X_scaled)\n",
    "df_normalized"
   ]
  },
  {
   "cell_type": "code",
   "execution_count": null,
   "id": "7890980c-6905-4340-b6df-e885e8704692",
   "metadata": {},
   "outputs": [],
   "source": [
    "df2=df\n",
    "df2['Species'].unique()"
   ]
  },
  {
   "cell_type": "code",
   "execution_count": 2,
   "id": "7e5ecb1e-7538-4e50-90f7-710ce1887210",
   "metadata": {},
   "outputs": [],
   "source": [
    "from sklearn import preprocessing\n",
    "enc = preprocessing.OneHotEncoder()"
   ]
  },
  {
   "cell_type": "code",
   "execution_count": null,
   "id": "d3ab7104-c0b7-4634-a43b-69e0373bf57b",
   "metadata": {},
   "outputs": [],
   "source": [
    "features_df=df2.drop(columns=['Species'])\n",
    "features_df"
   ]
  },
  {
   "cell_type": "code",
   "execution_count": null,
   "id": "61202652-7119-4f88-894c-eb3d0e62ca0d",
   "metadata": {},
   "outputs": [],
   "source": [
    "enc_df=(enc.fit_transform(df2[['Species']])).toarray()\n",
    "     \n",
    "enc_df = pd.DataFrame(enc_df, columns = ['Iris-Setosa','Iris-Versicolor','Iris-Virginica'])\n",
    "df_encode = features_df.join(enc_df)\n",
    "df_encode"
   ]
  }
 ],
 "metadata": {
  "kernelspec": {
   "display_name": "Python 3 (ipykernel)",
   "language": "python",
   "name": "python3"
  },
  "language_info": {
   "codemirror_mode": {
    "name": "ipython",
    "version": 3
   },
   "file_extension": ".py",
   "mimetype": "text/x-python",
   "name": "python",
   "nbconvert_exporter": "python",
   "pygments_lexer": "ipython3",
   "version": "3.12.1"
  }
 },
 "nbformat": 4,
 "nbformat_minor": 5
}
