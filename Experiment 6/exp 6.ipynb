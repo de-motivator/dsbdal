{
 "cells": [
  {
   "cell_type": "code",
   "execution_count": null,
   "id": "2324c25b-5676-4d39-a6d3-08d89dc75acc",
   "metadata": {},
   "outputs": [],
   "source": [
    "# Import libraries"
   ]
  },
  {
   "cell_type": "code",
   "execution_count": null,
   "id": "901ab2eb-10e2-4e4c-b458-4b82fed15c04",
   "metadata": {},
   "outputs": [],
   "source": [
    "import pandas as pd\n",
    "import numpy as np\n",
    "import matplotlib.pyplot as plt\n",
    "import seaborn as sns\n",
    "from sklearn.datasets import load_iris\n",
    "from sklearn.preprocessing import StandardScaler\n",
    "from sklearn.model_selection import train_test_split\n",
    "from sklearn.naive_bayes import GaussianNB\n",
    "from mlxtend.plotting import plot_confusion_matrix\n",
    "from sklearn.metrics import confusion_matrix, accuracy_score, classification_report, precision_score, recall_score, f1_score\n",
    "import warnings\n",
    "warnings.filterwarnings(\"ignore\")\n",
    "%matplotlib inline"
   ]
  },
  {
   "cell_type": "code",
   "execution_count": null,
   "id": "e6864e96-01da-4b86-9b9c-30c84c339b74",
   "metadata": {},
   "outputs": [],
   "source": [
    "# Load data"
   ]
  },
  {
   "cell_type": "code",
   "execution_count": null,
   "id": "7a28de23-4e96-4a3a-90d5-1698bddb8a96",
   "metadata": {},
   "outputs": [],
   "source": [
    "iris = load_iris()\n",
    "iris.keys()"
   ]
  },
  {
   "cell_type": "code",
   "execution_count": null,
   "id": "e4313e62-2ab0-44e0-b6da-f3974aef5fe9",
   "metadata": {},
   "outputs": [],
   "source": [
    "x = pd.DataFrame(iris['data'], columns=iris['feature_names'])\n",
    "y = pd.DataFrame(iris['target'], columns=['target'])"
   ]
  },
  {
   "cell_type": "code",
   "execution_count": null,
   "id": "b28a5a9d-65de-4685-bf67-088bf6212b69",
   "metadata": {},
   "outputs": [],
   "source": [
    "x.head()"
   ]
  },
  {
   "cell_type": "code",
   "execution_count": null,
   "id": "936cd702-6a86-4b58-9148-a53aad584597",
   "metadata": {},
   "outputs": [],
   "source": [
    "# Basic stats"
   ]
  },
  {
   "cell_type": "code",
   "execution_count": null,
   "id": "aca966aa-23bc-4e66-9835-ae94b2c198fa",
   "metadata": {},
   "outputs": [],
   "source": [
    "x.shape, y.shape"
   ]
  },
  {
   "cell_type": "code",
   "execution_count": null,
   "id": "bf9e93ca-5d84-4f54-a26d-70caa709b023",
   "metadata": {},
   "outputs": [],
   "source": [
    "x.info()"
   ]
  },
  {
   "cell_type": "code",
   "execution_count": null,
   "id": "6514bc64-c3f3-4948-8974-4afb5c302863",
   "metadata": {},
   "outputs": [],
   "source": [
    "y.info()"
   ]
  },
  {
   "cell_type": "code",
   "execution_count": null,
   "id": "c6c88d81-8082-41ee-a83b-936c8da612ff",
   "metadata": {},
   "outputs": [],
   "source": [
    "x.describe()"
   ]
  },
  {
   "cell_type": "code",
   "execution_count": null,
   "id": "e254b234-487d-4482-97ec-86d4b5b47527",
   "metadata": {},
   "outputs": [],
   "source": [
    "# Data preparation"
   ]
  },
  {
   "cell_type": "code",
   "execution_count": null,
   "id": "c784f783-0bd7-43f0-8c8a-3ab21c365b99",
   "metadata": {},
   "outputs": [],
   "source": [
    "scaler = StandardScaler()"
   ]
  },
  {
   "cell_type": "code",
   "execution_count": null,
   "id": "d1671a7b-3b72-4296-8ac1-96c96c731d95",
   "metadata": {},
   "outputs": [],
   "source": [
    "x = scaler.fit_transform(x.values)\n",
    "x_train, x_test, y_train, y_test = train_test_split(x, y.values, test_size=0.2, random_state=42)"
   ]
  },
  {
   "cell_type": "code",
   "execution_count": null,
   "id": "292360ad-ffab-4776-bdce-538744632609",
   "metadata": {},
   "outputs": [],
   "source": [
    "x_train.shape, x_test.shape, y_train.shape, y_test.shape"
   ]
  },
  {
   "cell_type": "code",
   "execution_count": null,
   "id": "f6272857-d929-4cb5-be09-ed3b749ee9c4",
   "metadata": {},
   "outputs": [],
   "source": [
    "# Model building"
   ]
  },
  {
   "cell_type": "code",
   "execution_count": null,
   "id": "569bfab6-a52e-4bd6-bf67-6f15380236cb",
   "metadata": {},
   "outputs": [],
   "source": [
    "model = GaussianNB()"
   ]
  },
  {
   "cell_type": "code",
   "execution_count": null,
   "id": "ba7f0215-3921-4e93-8143-ff2d6577d141",
   "metadata": {},
   "outputs": [],
   "source": [
    "model.fit(x_train, y_train)"
   ]
  },
  {
   "cell_type": "code",
   "execution_count": null,
   "id": "2a6a3ea2-7c06-4644-844d-e2140a8fc4e1",
   "metadata": {},
   "outputs": [],
   "source": [
    "y_pred = model.predict(x_test)"
   ]
  },
  {
   "cell_type": "code",
   "execution_count": null,
   "id": "8554d552-bd8b-4a53-bedb-74ffe93b9ab0",
   "metadata": {},
   "outputs": [],
   "source": [
    "# Evalutation"
   ]
  },
  {
   "cell_type": "code",
   "execution_count": null,
   "id": "f255fc52-2503-4db7-a3fe-32eba034968c",
   "metadata": {},
   "outputs": [],
   "source": [
    "cm = confusion_matrix(y_test, y_pred)\n",
    "print(cm)"
   ]
  },
  {
   "cell_type": "code",
   "execution_count": null,
   "id": "53b4e59d-6934-4ee7-97c9-3e41e7ec5609",
   "metadata": {},
   "outputs": [],
   "source": [
    "plot_confusion_matrix(conf_mat=cm, figsize=(5,5), show_normed=True)\n",
    "plt.show()"
   ]
  },
  {
   "cell_type": "code",
   "execution_count": null,
   "id": "56cbefa1-ffe9-498a-9435-20c7433bc06a",
   "metadata": {},
   "outputs": [],
   "source": [
    "print(f\"TP value is {cm[0,0]}\")\n",
    "print(f\"TN value is {cm[1,1] + cm[2,2]}\")\n",
    "print(f\"FP value is {cm[0,1] + cm[0,2]}\")\n",
    "print(f\"FN value is {cm[1,0] + cm[2,0]}\")"
   ]
  },
  {
   "cell_type": "code",
   "execution_count": null,
   "id": "2d5efc10-a9d1-460b-8654-ec63371c9ba9",
   "metadata": {},
   "outputs": [],
   "source": [
    "print(f\"Accuracy score is {accuracy_score(y_test, y_pred)}\")"
   ]
  },
  {
   "cell_type": "code",
   "execution_count": null,
   "id": "8b7d82c2-f323-41b8-953f-1b65c3c60e2f",
   "metadata": {},
   "outputs": [],
   "source": [
    "print(f\"Error rate is {1 - accuracy_score(y_test, y_pred)}\")"
   ]
  },
  {
   "cell_type": "code",
   "execution_count": null,
   "id": "d694b2cd-ed9c-4a8e-b827-bf88fd16a154",
   "metadata": {},
   "outputs": [],
   "source": [
    "print(f\"Precision score is {precision_score(y_test, y_pred, average='macro')}\")"
   ]
  },
  {
   "cell_type": "code",
   "execution_count": null,
   "id": "2e263271-1406-4145-9726-1139b2d573c2",
   "metadata": {},
   "outputs": [],
   "source": [
    "print(f\"Recall score is {recall_score(y_test, y_pred, average='macro')}\")"
   ]
  },
  {
   "cell_type": "code",
   "execution_count": null,
   "id": "1481d7e3-af37-4598-8da2-2276ac6cb56c",
   "metadata": {},
   "outputs": [],
   "source": [
    "print(classification_report(y_test, y_pred))"
   ]
  }
 ],
 "metadata": {
  "kernelspec": {
   "display_name": "Python 3 (ipykernel)",
   "language": "python",
   "name": "python3"
  },
  "language_info": {
   "codemirror_mode": {
    "name": "ipython",
    "version": 3
   },
   "file_extension": ".py",
   "mimetype": "text/x-python",
   "name": "python",
   "nbconvert_exporter": "python",
   "pygments_lexer": "ipython3",
   "version": "3.12.1"
  }
 },
 "nbformat": 4,
 "nbformat_minor": 5
}
