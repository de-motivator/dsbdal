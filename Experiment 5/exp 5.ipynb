{
 "cells": [
  {
   "cell_type": "code",
   "execution_count": null,
   "id": "62f7ff36-0145-424f-b2ff-6f52d703251b",
   "metadata": {},
   "outputs": [],
   "source": [
    "# Import Libraries"
   ]
  },
  {
   "cell_type": "code",
   "execution_count": null,
   "id": "98bd3b14-51cb-4873-86d9-c8eb34a9b2fb",
   "metadata": {},
   "outputs": [],
   "source": [
    "import pandas as pd\n",
    "import numpy as np\n",
    "import matplotlib.pyplot as plt\n",
    "import seaborn as sns\n",
    "from sklearn.preprocessing import StandardScaler\n",
    "from sklearn.model_selection import train_test_split\n",
    "from sklearn.linear_model import LogisticRegression\n",
    "from mlxtend.plotting import plot_confusion_matrix\n",
    "from sklearn.metrics import confusion_matrix, classification_report, accuracy_score, precision_score, recall_score, f1_score\n",
    "import warnings\n",
    "warnings.filterwarnings('ignore')\n",
    "%matplotlib inline"
   ]
  },
  {
   "cell_type": "code",
   "execution_count": null,
   "id": "055ed5a3-15db-439f-ac2a-6abdd22cd327",
   "metadata": {},
   "outputs": [],
   "source": [
    "# Load data"
   ]
  },
  {
   "cell_type": "code",
   "execution_count": null,
   "id": "4f95d05e-f6dd-41d5-83c1-bab9570e3140",
   "metadata": {},
   "outputs": [],
   "source": [
    "df = pd.read_csv(\"Social_Network_Ads.csv\")"
   ]
  },
  {
   "cell_type": "code",
   "execution_count": null,
   "id": "7c5ad5f0-8868-4d28-a815-cf24881da5e6",
   "metadata": {},
   "outputs": [],
   "source": [
    "df.head()"
   ]
  },
  {
   "cell_type": "code",
   "execution_count": null,
   "id": "ae689c80-c8c2-4a32-b54a-b7fe5e99c4fe",
   "metadata": {},
   "outputs": [],
   "source": [
    "# Basic Statistics"
   ]
  },
  {
   "cell_type": "code",
   "execution_count": null,
   "id": "e4724afd-92c9-4ad3-af98-9538313e7700",
   "metadata": {},
   "outputs": [],
   "source": [
    "df.shape"
   ]
  },
  {
   "cell_type": "code",
   "execution_count": null,
   "id": "ae53e611-51a7-452b-b13a-b943f497fda1",
   "metadata": {},
   "outputs": [],
   "source": [
    "df.info()"
   ]
  },
  {
   "cell_type": "code",
   "execution_count": null,
   "id": "51504e2e-9adb-4a68-bd4c-85645c7fa241",
   "metadata": {},
   "outputs": [],
   "source": [
    "df.describe()"
   ]
  },
  {
   "cell_type": "code",
   "execution_count": null,
   "id": "1ba380f8-3e98-4ca5-b5bf-b42caa675751",
   "metadata": {},
   "outputs": [],
   "source": [
    "df.isna().sum()"
   ]
  },
  {
   "cell_type": "code",
   "execution_count": null,
   "id": "c58ffd5d-17b0-4595-8557-5d43a1aef967",
   "metadata": {},
   "outputs": [],
   "source": [
    "histplot = sns.histplot(df['Age'], kde=True, bins=30, color='red', alpha=0.3)\n",
    "for i in histplot.containers:\n",
    "    histplot.bar_label(i,)\n",
    "plt.show()"
   ]
  },
  {
   "cell_type": "code",
   "execution_count": null,
   "id": "591d72f0-d82e-4e9d-8f5f-80a61104cb56",
   "metadata": {},
   "outputs": [],
   "source": [
    "histplot = sns.histplot(df['EstimatedSalary'], kde=True, bins=30, color='red', alpha=0.3)\n",
    "for i in histplot.containers:\n",
    "    histplot.bar_label(i,)\n",
    "plt.show()"
   ]
  },
  {
   "cell_type": "code",
   "execution_count": null,
   "id": "d0b64204-ac00-40f3-986f-809bfd83cfd1",
   "metadata": {},
   "outputs": [],
   "source": [
    "df[\"Gender\"].value_counts()"
   ]
  },
  {
   "cell_type": "code",
   "execution_count": null,
   "id": "7da46752-0c42-449e-9cd2-5dd4eb83901e",
   "metadata": {},
   "outputs": [],
   "source": [
    "def gender_encoder(value):\n",
    "    if (value == \"Male\"):\n",
    "        return 1\n",
    "    elif (value == \"Female\"):\n",
    "        return 0\n",
    "    else:\n",
    "        return -1"
   ]
  },
  {
   "cell_type": "code",
   "execution_count": null,
   "id": "8ca29d04-31aa-41a1-9991-6e4a2697b26e",
   "metadata": {},
   "outputs": [],
   "source": [
    "df[\"Gender\"] = df[\"Gender\"].apply(gender_encoder)"
   ]
  },
  {
   "cell_type": "code",
   "execution_count": null,
   "id": "9c22a877-2252-43c5-a19a-125b593ddd43",
   "metadata": {},
   "outputs": [],
   "source": [
    "df[\"Purchased\"].value_counts()"
   ]
  },
  {
   "cell_type": "code",
   "execution_count": null,
   "id": "416acb4d-1206-4f66-a412-949b3e7c39ec",
   "metadata": {},
   "outputs": [],
   "source": [
    "countplot = sns.countplot(df[\"Purchased\"])\n",
    "for i in countplot.containers:\n",
    "    countplot.bar_label(i,)\n",
    "plt.show()"
   ]
  },
  {
   "cell_type": "code",
   "execution_count": null,
   "id": "98d7c2e0-85c7-41b9-91dc-9a6ff7938951",
   "metadata": {},
   "outputs": [],
   "source": [
    "countplot = sns.countplot(df[\"Purchased\"], hue=df[\"Gender\"], palette=\"twilight\")\n",
    "for i in countplot.containers:\n",
    "    countplot.bar_label(i,)\n",
    "plt.show()"
   ]
  },
  {
   "cell_type": "code",
   "execution_count": null,
   "id": "353d1a98-13a5-4c24-a58f-ed5a44acfee9",
   "metadata": {},
   "outputs": [],
   "source": [
    "sns.heatmap(df.corr(), annot=True)\n",
    "plt.show()"
   ]
  },
  {
   "cell_type": "code",
   "execution_count": null,
   "id": "52eaa66a-5cf2-462b-a5bf-af52a05841b4",
   "metadata": {},
   "outputs": [],
   "source": [
    "# Data preparation"
   ]
  },
  {
   "cell_type": "code",
   "execution_count": null,
   "id": "80d93931-7f3a-467c-9e8e-3ce4d6ddbc5d",
   "metadata": {},
   "outputs": [],
   "source": [
    "x = df[[\"Age\", \"EstimatedSalary\"]]\n",
    "y = df[\"Purchased\"]"
   ]
  },
  {
   "cell_type": "code",
   "execution_count": null,
   "id": "a44eac88-60dd-40a6-9248-3165043a009f",
   "metadata": {},
   "outputs": [],
   "source": [
    "scaler = StandardScaler()\n",
    "x = scaler.fit_transform(x)"
   ]
  },
  {
   "cell_type": "code",
   "execution_count": null,
   "id": "71f5eaeb-7cc9-400d-8413-b8184f13178c",
   "metadata": {},
   "outputs": [],
   "source": [
    "x_train, x_test, y_train, y_test = train_test_split(x, y, test_size=0.2, random_state=42)"
   ]
  },
  {
   "cell_type": "code",
   "execution_count": null,
   "id": "02c7e7e0-a195-421d-a421-a0d98770ac6a",
   "metadata": {},
   "outputs": [],
   "source": [
    "x_train.shape, x_test.shape, y_train.shape, y_test.shape"
   ]
  },
  {
   "cell_type": "code",
   "execution_count": null,
   "id": "e6818799-4f31-4ffe-93aa-f0e9fafb4ee4",
   "metadata": {},
   "outputs": [],
   "source": [
    "# Model building"
   ]
  },
  {
   "cell_type": "code",
   "execution_count": null,
   "id": "c0e3f8b1-94ff-47c7-bffd-9e9dbdb29deb",
   "metadata": {},
   "outputs": [],
   "source": [
    "model = LogisticRegression(n_jobs=-1)"
   ]
  },
  {
   "cell_type": "code",
   "execution_count": null,
   "id": "c21e4f4b-10ee-4d64-b20d-fe46301c44ae",
   "metadata": {},
   "outputs": [],
   "source": [
    "model.fit(x_train, y_train)"
   ]
  },
  {
   "cell_type": "code",
   "execution_count": null,
   "id": "234da979-6f44-47fb-beb2-dcb2cb2189b4",
   "metadata": {},
   "outputs": [],
   "source": [
    "y_pred = model.predict(x_test)"
   ]
  },
  {
   "cell_type": "code",
   "execution_count": null,
   "id": "e1bc8ea1-5e4e-4c68-9ee2-e68c9e6b349c",
   "metadata": {},
   "outputs": [],
   "source": [
    "# Evalutation"
   ]
  },
  {
   "cell_type": "code",
   "execution_count": null,
   "id": "29fb831e-8057-4936-9903-3a8c457019de",
   "metadata": {},
   "outputs": [],
   "source": [
    "cm = confusion_matrix(y_test, y_pred)\n",
    "print(cm)"
   ]
  },
  {
   "cell_type": "code",
   "execution_count": null,
   "id": "4de7e9a1-5f7b-49cb-9e92-ddf847e55e4f",
   "metadata": {},
   "outputs": [],
   "source": [
    "plot_confusion_matrix(conf_mat=cm, figsize=(5,5), show_normed=True)\n",
    "plt.show()"
   ]
  },
  {
   "cell_type": "code",
   "execution_count": null,
   "id": "0d410e14-a515-448c-8140-17ae2e1de99c",
   "metadata": {},
   "outputs": [],
   "source": [
    "print(f\"TN value is {cm[0][0]}\")\n",
    "print(f\"FP value is {cm[0][1]}\")\n",
    "print(f\"FN value is {cm[1][0]}\")\n",
    "print(f\"TP value is {cm[1][1]}\")"
   ]
  },
  {
   "cell_type": "code",
   "execution_count": null,
   "id": "3486154b-0198-425d-82d5-08e849dffb37",
   "metadata": {},
   "outputs": [],
   "source": [
    "print(f\"Accuracy score is {accuracy_score(y_test, y_pred)}\")"
   ]
  },
  {
   "cell_type": "code",
   "execution_count": null,
   "id": "b5c73459-6f3b-48f4-b761-d9003dccac9d",
   "metadata": {},
   "outputs": [],
   "source": [
    "print(f\"Error rate is {1-accuracy_score(y_test, y_pred)}\")"
   ]
  },
  {
   "cell_type": "code",
   "execution_count": null,
   "id": "3b4d4a4f-75df-4fb8-840f-c6c6df560747",
   "metadata": {},
   "outputs": [],
   "source": [
    "print(f\"Precision score is {precision_score(y_test, y_pred)}\")"
   ]
  },
  {
   "cell_type": "code",
   "execution_count": null,
   "id": "2fcb2d7a-d17c-4de2-ba0d-470c40bde2ff",
   "metadata": {},
   "outputs": [],
   "source": [
    "print(f\"Recall score is {recall_score(y_test, y_pred)}\")"
   ]
  },
  {
   "cell_type": "code",
   "execution_count": null,
   "id": "d54daedc-8b35-4f5d-b5ab-1b7248b885f9",
   "metadata": {},
   "outputs": [],
   "source": [
    "print(classification_report(y_test, y_pred))"
   ]
  }
 ],
 "metadata": {
  "kernelspec": {
   "display_name": "Python 3 (ipykernel)",
   "language": "python",
   "name": "python3"
  },
  "language_info": {
   "codemirror_mode": {
    "name": "ipython",
    "version": 3
   },
   "file_extension": ".py",
   "mimetype": "text/x-python",
   "name": "python",
   "nbconvert_exporter": "python",
   "pygments_lexer": "ipython3",
   "version": "3.12.1"
  }
 },
 "nbformat": 4,
 "nbformat_minor": 5
}
